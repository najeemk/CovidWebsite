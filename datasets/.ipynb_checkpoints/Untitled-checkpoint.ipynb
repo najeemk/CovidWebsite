{
 "cells": [
  {
   "cell_type": "code",
   "execution_count": 1,
   "metadata": {},
   "outputs": [
    {
     "name": "stderr",
     "output_type": "stream",
     "text": [
      "/usr/local/lib/python3.7/site-packages/IPython/core/interactiveshell.py:3051: DtypeWarning: Columns (1) have mixed types. Specify dtype option on import or set low_memory=False.\n",
      "  interactivity=interactivity, compiler=compiler, result=result)\n"
     ]
    }
   ],
   "source": [
    "import pandas as pd\n",
    "import json\n",
    "dateparse = lambda x: pd.datetime.strptime(x, '%d/%m/%y')\n",
    "df = pd.read_csv('truth-Cumulative Cases.csv', parse_dates=['date'], date_parser=dateparse)\n",
    "df = df[df['location']!='US']\n",
    "df['location'] = df['location'].astype(int)\n",
    "df = df[(df['date'] <= '09/07/2020') & (df['date'] >= '01/27/2020')]\n",
    "df = df[(df['location'] < 57) & (df['location'] > 0)& (df['location'] !=11)]\n",
    "locations = pd.read_csv(\"locations.csv\")\n",
    "locations = locations[locations['location']!='US']\n",
    "del locations['location_name']\n",
    "locations['location'] = locations['location'].astype(int)\n",
    "locations = locations[(locations['location'] < 57) & (locations['location'] > 0) & (locations['location'] != 11)]\n",
    "df_master = pd.merge(df, locations, on='location')\n",
    "df_master['date'] = df_master['date'].astype(str)\n",
    "unique_dates = df_master.date.unique()\n",
    "unique_states = df_master.abbreviation.unique()\n",
    "json_object_list=[]\n",
    "for i in range(len(unique_states)):\n",
    "    dictionary={}\n",
    "    dictionary[\"code\"]=unique_states[i]\n",
    "    df_temp = df_master[df_master[\"abbreviation\"]==unique_states[i]]\n",
    "    for j in range(len(unique_dates)):\n",
    "        if j%7==0:\n",
    "            dictionary[unique_dates[j]]=str(df_temp.iloc[j,3])\n",
    "    json_object_list.append(dictionary)\n",
    "with open(\"df_truth_cum.json\", \"w\") as outfile: \n",
    "        json.dump(json_object_list, outfile, indent=4) "
   ]
  },
  {
   "cell_type": "code",
   "execution_count": 13,
   "metadata": {},
   "outputs": [
    {
     "name": "stdout",
     "output_type": "stream",
     "text": [
      "-2.3985538406375317\n",
      "[ 0.96758403  0.46203546 -0.4780358   0.46203546]\n",
      "\n"
     ]
    }
   ],
   "source": [
    "import numpy as np\n",
    "g=np.array([0.6245933,0.37754067,0.6245933,0.37754067])\n",
    "theta = np.array([0,0,1,0])\n",
    "sumi = 0;\n",
    "for i in range(0,4):\n",
    "    sumi+=((theta[i]*np.log(g[i]))+((1-theta[i])*np.log(1-g[i])))\n",
    "print(sumi)"
   ]
  },
  {
   "cell_type": "code",
   "execution_count": null,
   "metadata": {},
   "outputs": [],
   "source": []
  }
 ],
 "metadata": {
  "kernelspec": {
   "display_name": "Python 3",
   "language": "python",
   "name": "python3"
  },
  "language_info": {
   "codemirror_mode": {
    "name": "ipython",
    "version": 3
   },
   "file_extension": ".py",
   "mimetype": "text/x-python",
   "name": "python",
   "nbconvert_exporter": "python",
   "pygments_lexer": "ipython3",
   "version": "3.7.6"
  }
 },
 "nbformat": 4,
 "nbformat_minor": 4
}
